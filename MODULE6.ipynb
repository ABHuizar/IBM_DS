{
  "metadata": {
    "kernelspec": {
      "name": "python",
      "display_name": "Python (Pyodide)",
      "language": "python"
    },
    "language_info": {
      "codemirror_mode": {
        "name": "python",
        "version": 3
      },
      "file_extension": ".py",
      "mimetype": "text/x-python",
      "name": "python",
      "nbconvert_exporter": "python",
      "pygments_lexer": "ipython3",
      "version": "3.8"
    }
  },
  "nbformat_minor": 4,
  "nbformat": 4,
  "cells": [
    {
      "cell_type": "markdown",
      "source": "# MODULE 6 - JUPYTER NOTEBOOK PROJECT",
      "metadata": {}
    },
    {
      "cell_type": "markdown",
      "source": "## Introduction\nThis notebook will explore different data science tools and libraries.",
      "metadata": {}
    },
    {
      "cell_type": "markdown",
      "source": "### Data Science Languages\n- Python\n- R\n- SQL\n- Julia",
      "metadata": {}
    },
    {
      "cell_type": "markdown",
      "source": "### Data Science Libraries\n- Pandas\n- NumPy\n- Matplotlib\n- Scikit-learn\n",
      "metadata": {}
    },
    {
      "cell_type": "markdown",
      "source": "| Tool      | Description                          |\n|-----------|--------------------------------------|\n| Jupyter   | Interactive environment to run code  |\n| RStudio   | Development environment for R        |\n| Tableau   | Data visualization tool              |\n",
      "metadata": {}
    },
    {
      "cell_type": "markdown",
      "source": "### Arithmetic Expressions\nAn arithmetic expression combines numbers and operators to perform calculations. Example: (2 + 3) * 4.\n",
      "metadata": {}
    },
    {
      "cell_type": "code",
      "source": "result = (3 + 5) * 2\nresult",
      "metadata": {
        "trusted": true
      },
      "outputs": [
        {
          "execution_count": 3,
          "output_type": "execute_result",
          "data": {
            "text/plain": "16"
          },
          "metadata": {}
        }
      ],
      "execution_count": 3
    },
    {
      "cell_type": "code",
      "source": "minutes = 120\nhours = minutes / 60\nhours",
      "metadata": {
        "trusted": true
      },
      "outputs": [
        {
          "execution_count": 4,
          "output_type": "execute_result",
          "data": {
            "text/plain": "2.0"
          },
          "metadata": {}
        }
      ],
      "execution_count": 4
    },
    {
      "cell_type": "markdown",
      "source": "### Objectives\n- Learn data science languages.\n- Explore key libraries for data analysis.\n- Practice simple arithmetic expressions.\n",
      "metadata": {}
    },
    {
      "cell_type": "markdown",
      "source": "**Author:** ANDREE BERNAL HUIZAR",
      "metadata": {}
    },
    {
      "cell_type": "code",
      "source": "",
      "metadata": {
        "trusted": true
      },
      "outputs": [],
      "execution_count": null
    }
  ]
}